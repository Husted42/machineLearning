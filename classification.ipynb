{
 "cells": [
  {
   "cell_type": "code",
   "execution_count": 15,
   "metadata": {},
   "outputs": [],
   "source": [
    "import numpy as np\n",
    "import matplotlib.pyplot as plt\n",
    "import pandas as pd\n",
    "import warnings\n",
    "\n",
    "from sklearn.model_selection import train_test_split\n",
    "from sklearn.linear_model import LogisticRegression\n",
    "from sklearn.ensemble import RandomForestClassifier\n",
    "from sklearn.neighbors import KNeighborsClassifier\n",
    "from sklearn.model_selection import cross_val_score\n",
    "from sklearn import metrics"
   ]
  },
  {
   "cell_type": "markdown",
   "metadata": {},
   "source": [
    "# Data"
   ]
  },
  {
   "cell_type": "code",
   "execution_count": 16,
   "metadata": {},
   "outputs": [],
   "source": [
    "X_test = np.loadtxt(\"data/pca/X_test.csv\", delimiter=\",\", dtype=float)\n",
    "X_train = np.loadtxt(\"data/pca/X_train.csv\", delimiter=\",\", dtype=float)\n",
    "y_test = np.loadtxt(\"data/pca/y_test.csv\", delimiter=\",\", dtype=float)\n",
    "y_train = np.loadtxt(\"data/pca/y_train.csv\", delimiter=\",\", dtype=float)"
   ]
  },
  {
   "cell_type": "code",
   "execution_count": 17,
   "metadata": {},
   "outputs": [
    {
     "name": "stdout",
     "output_type": "stream",
     "text": [
      "(13901, 16)\n",
      "(33724, 16)\n",
      "(13901,)\n",
      "(33724,)\n"
     ]
    }
   ],
   "source": [
    "for elm in [X_test, X_train, y_test, y_train]:\n",
    "    print(elm.shape)"
   ]
  },
  {
   "cell_type": "code",
   "execution_count": 18,
   "metadata": {},
   "outputs": [
    {
     "name": "stdout",
     "output_type": "stream",
     "text": [
      "[0.0, 1.0, 2.0, 3.0, 4.0]\n",
      "[0.5208753410034397, 0.09551061558533981, 0.25272802751749496, 0.04693986478472305, 0.08394615110900248]\n"
     ]
    }
   ],
   "source": [
    "unique, frequency = np.unique(y_train, return_counts = True)\n",
    "length = len(y_train)\n",
    "freqLst = []\n",
    "for elm in frequency:\n",
    "    freqLst.append(elm/length)\n",
    "\n",
    "print(list(unique))\n",
    "print(freqLst)"
   ]
  },
  {
   "cell_type": "code",
   "execution_count": 19,
   "metadata": {},
   "outputs": [
    {
     "name": "stdout",
     "output_type": "stream",
     "text": [
      "['0: freq = 0.52', '1: freq = 0.1', '2: freq = 0.25', '3: freq = 0.05', '4: freq = 0.08']\n"
     ]
    },
    {
     "data": {
      "image/png": "[encoded data removed]",
      "text/plain": [
       "<Figure size 640x480 with 1 Axes>"
      ]
     },
     "metadata": {},
     "output_type": "display_data"
    }
   ],
   "source": [
    "labels = []\n",
    "for i in range(0, len(frequency)):\n",
    "    labels.append(str(round(unique[i])) + ': freq = ' + str(round(freqLst[i], 2)))\n",
    "print(labels)\n",
    "plt.pie(freqLst, labels = labels)\n",
    "plt.show() "
   ]
  },
  {
   "cell_type": "markdown",
   "metadata": {},
   "source": [
    "### Datasplit"
   ]
  },
  {
   "cell_type": "code",
   "execution_count": 20,
   "metadata": {},
   "outputs": [
    {
     "name": "stdout",
     "output_type": "stream",
     "text": [
      "(33724, 16)\n",
      "(26979, 16) (6745, 16) (26979,) (6745,)\n"
     ]
    }
   ],
   "source": [
    "print(np.shape(X_train))\n",
    "x_train, x_val, y_train, y_val = train_test_split(X_train, y_train, test_size = 0.2, random_state = 42)\n",
    "print(np.shape(x_train), np.shape(x_val), np.shape(y_train), np.shape(y_val))"
   ]
  },
  {
   "cell_type": "markdown",
   "metadata": {},
   "source": [
    "# Models"
   ]
  },
  {
   "cell_type": "markdown",
   "metadata": {},
   "source": [
    "### Multi-nominal logistic regression."
   ]
  },
  {
   "cell_type": "code",
   "execution_count": 21,
   "metadata": {},
   "outputs": [],
   "source": [
    "warnings.filterwarnings('ignore') \n",
    "log_model_train = LogisticRegression(multi_class = 'multinomial') \n",
    "log_model_train.fit(x_train, y_train) \n",
    "y_pred_val = log_model_train.predict(x_val) \n",
    "y_pred_test = log_model_train.predict(X_test) \n",
    "warnings.filterwarnings('default')"
   ]
  },
  {
   "cell_type": "code",
   "execution_count": 22,
   "metadata": {},
   "outputs": [
    {
     "name": "stdout",
     "output_type": "stream",
     "text": [
      "Logistic Regression 0-1 loss: 0.1543365455893254\n",
      "Logistic Regression 0-1 loss: 0.09884180994173086\n"
     ]
    }
   ],
   "source": [
    "print(\"Logistic Regression 0-1 loss:\",metrics.zero_one_loss(y_val, y_pred_val))\n",
    "print(\"Logistic Regression 0-1 loss:\",metrics.zero_one_loss(y_test, y_pred_test))"
   ]
  },
  {
   "cell_type": "markdown",
   "metadata": {},
   "source": [
    "### Random forest"
   ]
  },
  {
   "cell_type": "code",
   "execution_count": 23,
   "metadata": {},
   "outputs": [],
   "source": [
    "forest_model_train_50 = RandomForestClassifier(max_depth = 50, random_state=42)\n",
    "forest_model_train_100 = RandomForestClassifier(max_depth = 100, random_state=42)\n",
    "forest_model_train_200 = RandomForestClassifier(max_depth = 200, random_state=42)\n",
    "forest_model_train_50.fit(x_train, y_train) \n",
    "forest_model_train_100.fit(x_train, y_train) \n",
    "forest_model_train_200.fit(x_train, y_train) \n",
    "y_pred_val_50 = forest_model_train_50.predict(x_val) \n",
    "y_pred_val_100 = forest_model_train_100.predict(x_val) \n",
    "y_pred_val_200 = forest_model_train_200.predict(x_val) \n",
    "y_pred_test_50 = forest_model_train_50.predict(X_test) \n",
    "y_pred_test_100 = forest_model_train_100.predict(X_test) \n",
    "y_pred_test_200 = forest_model_train_200.predict(X_test) "
   ]
  },
  {
   "cell_type": "code",
   "execution_count": 24,
   "metadata": {},
   "outputs": [
    {
     "name": "stdout",
     "output_type": "stream",
     "text": [
      "{'bootstrap': True, 'ccp_alpha': 0.0, 'class_weight': None, 'criterion': 'gini', 'max_depth': 50, 'max_features': 'auto', 'max_leaf_nodes': None, 'max_samples': None, 'min_impurity_decrease': 0.0, 'min_samples_leaf': 1, 'min_samples_split': 2, 'min_weight_fraction_leaf': 0.0, 'n_estimators': 100, 'n_jobs': None, 'oob_score': False, 'random_state': 42, 'verbose': 0, 'warm_start': False}\n",
      "{'bootstrap': True, 'ccp_alpha': 0.0, 'class_weight': None, 'criterion': 'gini', 'max_depth': 100, 'max_features': 'auto', 'max_leaf_nodes': None, 'max_samples': None, 'min_impurity_decrease': 0.0, 'min_samples_leaf': 1, 'min_samples_split': 2, 'min_weight_fraction_leaf': 0.0, 'n_estimators': 100, 'n_jobs': None, 'oob_score': False, 'random_state': 42, 'verbose': 0, 'warm_start': False}\n",
      "{'bootstrap': True, 'ccp_alpha': 0.0, 'class_weight': None, 'criterion': 'gini', 'max_depth': 200, 'max_features': 'auto', 'max_leaf_nodes': None, 'max_samples': None, 'min_impurity_decrease': 0.0, 'min_samples_leaf': 1, 'min_samples_split': 2, 'min_weight_fraction_leaf': 0.0, 'n_estimators': 100, 'n_jobs': None, 'oob_score': False, 'random_state': 42, 'verbose': 0, 'warm_start': False}\n"
     ]
    }
   ],
   "source": [
    "print(forest_model_train_50.get_params())\n",
    "print(forest_model_train_100.get_params())\n",
    "print(forest_model_train_200.get_params())"
   ]
  },
  {
   "cell_type": "code",
   "execution_count": 25,
   "metadata": {},
   "outputs": [
    {
     "name": "stdout",
     "output_type": "stream",
     "text": [
      "Forest: 50 trees on val   : 0.14988880652335068\n",
      "Forest: 100 trees on val  : 0.14988880652335068\n",
      "Forest: 200 trees on val  : 0.14988880652335068\n",
      "Forest: 50 trees on train : 0.11121502050212217\n",
      "Forest: 100 trees on train: 0.11121502050212217\n",
      "Forest: 200 trees on train: 0.11121502050212217\n"
     ]
    }
   ],
   "source": [
    "print(\"Forest: 50 trees on val   :\",metrics.zero_one_loss(y_val, y_pred_val_50))\n",
    "print(\"Forest: 100 trees on val  :\",metrics.zero_one_loss(y_val, y_pred_val_100))\n",
    "print(\"Forest: 200 trees on val  :\",metrics.zero_one_loss(y_val, y_pred_val_200))\n",
    "print(\"Forest: 50 trees on train :\",metrics.zero_one_loss(y_test, y_pred_test_50))\n",
    "print(\"Forest: 100 trees on train:\",metrics.zero_one_loss(y_test, y_pred_test_100))\n",
    "print(\"Forest: 200 trees on train:\",metrics.zero_one_loss(y_test, y_pred_test_200))"
   ]
  },
  {
   "cell_type": "markdown",
   "metadata": {},
   "source": [
    "### k-nearest-neighbor classification"
   ]
  },
  {
   "cell_type": "code",
   "execution_count": 26,
   "metadata": {},
   "outputs": [
    {
     "name": "stdout",
     "output_type": "stream",
     "text": [
      "Score by k : [0.8013343217197925, 0.8363232023721275, 0.8355819125277983, 0.8419570051890289, 0.8401779095626389]\n",
      "Index : 3 \n",
      "Score : 0.8419570051890289 \n",
      "Best k:  3\n"
     ]
    }
   ],
   "source": [
    "warnings.filterwarnings('ignore') \n",
    "k_range = range(1, 100, 10)\n",
    "k_scores = []\n",
    "for k in k_range:\n",
    "    knn = KNeighborsClassifier(n_neighbors=k)\n",
    "    scores = cross_val_score(knn, x_val, y_val, cv=5, scoring='accuracy')\n",
    "    k_scores.append(scores.mean())\n",
    "print('Score by k :', k_scores[:5])\n",
    "\n",
    "for i in range(len(k_scores)):\n",
    "    if k_scores[i] == max(k_scores):\n",
    "        best_k = i\n",
    "        print('Index :', i,'\\nScore :', max(k_scores), '\\nBest k: ', best_k)\n",
    "warnings.filterwarnings('default') "
   ]
  },
  {
   "cell_type": "code",
   "execution_count": 27,
   "metadata": {},
   "outputs": [
    {
     "name": "stderr",
     "output_type": "stream",
     "text": [
      "c:\\Users\\alx26\\anaconda3\\lib\\site-packages\\sklearn\\neighbors\\_classification.py:228: FutureWarning: Unlike other reduction functions (e.g. `skew`, `kurtosis`), the default behavior of `mode` typically preserves the axis it acts along. In SciPy 1.11.0, this behavior will change: the default value of `keepdims` will become False, the `axis` over which the statistic is taken will be eliminated, and the value None will no longer be accepted. Set `keepdims` to True or False to avoid this warning.\n",
      "  mode, _ = stats.mode(_y[neigh_ind, k], axis=1)\n",
      "c:\\Users\\alx26\\anaconda3\\lib\\site-packages\\sklearn\\neighbors\\_classification.py:228: FutureWarning: Unlike other reduction functions (e.g. `skew`, `kurtosis`), the default behavior of `mode` typically preserves the axis it acts along. In SciPy 1.11.0, this behavior will change: the default value of `keepdims` will become False, the `axis` over which the statistic is taken will be eliminated, and the value None will no longer be accepted. Set `keepdims` to True or False to avoid this warning.\n",
      "  mode, _ = stats.mode(_y[neigh_ind, k], axis=1)\n"
     ]
    }
   ],
   "source": [
    "knn_model_train = KNeighborsClassifier(n_neighbors=best_k).fit(x_train, y_train) \n",
    "y_pred_val = knn_model_train.predict(x_val)\n",
    "y_pred_test = knn_model_train.predict(X_test)"
   ]
  },
  {
   "cell_type": "code",
   "execution_count": 28,
   "metadata": {},
   "outputs": [
    {
     "name": "stdout",
     "output_type": "stream",
     "text": [
      "KNN 0-1 loss on validation: 0.17716827279466274\n",
      "KNN 0-1 loss on validation: 0.1317890799223077\n"
     ]
    }
   ],
   "source": [
    "print(\"KNN 0-1 loss on validation:\",metrics.zero_one_loss(y_val, y_pred_val))\n",
    "print(\"KNN 0-1 loss on validation:\",metrics.zero_one_loss(y_test, y_pred_test))"
   ]
  }
 ],
 "metadata": {
  "kernelspec": {
   "display_name": "Python 3",
   "language": "python",
   "name": "python3"
  },
  "language_info": {
   "codemirror_mode": {
    "name": "ipython",
    "version": 3
   },
   "file_extension": ".py",
   "mimetype": "text/x-python",
   "name": "python",
   "nbconvert_exporter": "python",
   "pygments_lexer": "ipython3",
   "version": "3.9.13"
  },
  "orig_nbformat": 4
 },
 "nbformat": 4,
 "nbformat_minor": 2
}
