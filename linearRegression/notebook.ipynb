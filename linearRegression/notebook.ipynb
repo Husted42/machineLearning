{
 "cells": [
  {
   "cell_type": "markdown",
   "metadata": {},
   "source": [
    "# Imports"
   ]
  },
  {
   "cell_type": "code",
   "execution_count": 19,
   "metadata": {},
   "outputs": [],
   "source": [
    "import numpy as np"
   ]
  },
  {
   "cell_type": "code",
   "execution_count": 20,
   "metadata": {},
   "outputs": [],
   "source": [
    "#Load data\n",
    "data_file_path = \"PCB.dt\"\n",
    "data_matrix = np.loadtxt(data_file_path)"
   ]
  },
  {
   "cell_type": "code",
   "execution_count": 21,
   "metadata": {},
   "outputs": [
    {
     "name": "stdout",
     "output_type": "stream",
     "text": [
      "Age:  [ 1.  6.  1.  6.  1.  6.  1.  7.  2.  7.  2.  7.  2.  8.  3.  8.  3.  8.\n",
      "  3.  9.  4. 11.  4. 12.  4. 12.  5. 12.] \n",
      "PCB:  [ 0.6  3.4  1.6  9.7  0.5  8.6  1.2  4.   2.   5.5  1.3 10.5  2.5 17.5\n",
      "  2.2 13.4  2.4  4.5  1.2 30.4  3.5 12.4  4.1 13.4  5.1 26.2  5.7  7.4]\n"
     ]
    }
   ],
   "source": [
    "#Split data into two arrays\n",
    "X, Y = [], []\n",
    "for elm in data_matrix:\n",
    "    X.append(elm[0])\n",
    "    Y.append(elm[1])\n",
    "X, Y = np.array(X), np.array(Y)\n",
    "print('Age: ',X, '\\nPCB: ', Y)"
   ]
  },
  {
   "cell_type": "markdown",
   "metadata": {},
   "source": [
    "# Linear regression"
   ]
  }
 ],
 "metadata": {
  "kernelspec": {
   "display_name": "Python 3",
   "language": "python",
   "name": "python3"
  },
  "language_info": {
   "codemirror_mode": {
    "name": "ipython",
    "version": 3
   },
   "file_extension": ".py",
   "mimetype": "text/x-python",
   "name": "python",
   "nbconvert_exporter": "python",
   "pygments_lexer": "ipython3",
   "version": "3.10.11"
  },
  "orig_nbformat": 4
 },
 "nbformat": 4,
 "nbformat_minor": 2
}
