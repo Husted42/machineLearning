{
 "cells": [
  {
   "cell_type": "code",
   "execution_count": 63,
   "metadata": {},
   "outputs": [],
   "source": [
    "import numpy as np\n",
    "import matplotlib.pyplot as plt\n",
    "import pandas as pd\n",
    "import warnings\n",
    "\n",
    "from sklearn.preprocessing import StandardScaler\n",
    "from sklearn.model_selection import train_test_split\n",
    "from sklearn.neighbors import KNeighborsClassifier\n",
    "from sklearn.model_selection import cross_val_score\n",
    "from sklearn import metrics"
   ]
  },
  {
   "cell_type": "code",
   "execution_count": 64,
   "metadata": {},
   "outputs": [],
   "source": [
    "X_test = np.loadtxt(\"X_test.csv\", delimiter=\",\", dtype=float)\n",
    "X_train = np.loadtxt(\"X_train.csv\", delimiter=\",\", dtype=float)\n",
    "y_test = np.loadtxt(\"y_test.csv\", delimiter=\",\", dtype=float)\n",
    "Y_train = np.loadtxt(\"y_train.csv\", delimiter=\",\", dtype=float)"
   ]
  },
  {
   "cell_type": "code",
   "execution_count": 65,
   "metadata": {},
   "outputs": [
    {
     "name": "stdout",
     "output_type": "stream",
     "text": [
      "(26979, 16) (6745, 16) (26979,) (6745,)\n"
     ]
    }
   ],
   "source": [
    "x_train, x_val, y_train, y_val = train_test_split(X_train, Y_train, test_size = 0.2, random_state = 42)\n",
    "print(np.shape(x_train), np.shape(x_val), np.shape(y_train), np.shape(y_val))"
   ]
  },
  {
   "cell_type": "code",
   "execution_count": 71,
   "metadata": {},
   "outputs": [
    {
     "name": "stdout",
     "output_type": "stream",
     "text": [
      "[[ 3.32032574 -0.43892052  1.51566157 ... -0.33835403  0.30445066\n",
      "  -1.2252842 ]\n",
      " [ 1.38334032 -0.39827274 -0.51075938 ...  1.79486339  0.30172936\n",
      "  -1.04854547]\n",
      " [-0.49662121 -0.43570923 -0.37964096 ... -0.66004211 -0.61288942\n",
      "   0.94072267]\n",
      " ...\n",
      " [-0.57208071  2.17829834  1.60129297 ... -0.68169022 -0.63228601\n",
      "   1.75330763]\n",
      " [-0.08697964  0.05389449 -0.53796556 ...  1.41103203  2.35842808\n",
      "  -1.22220685]\n",
      " [-0.57227776 -0.45544814 -0.50707299 ... -0.68179324 -0.63228601\n",
      "   0.96755608]]\n"
     ]
    }
   ],
   "source": [
    "scaler = StandardScaler()\n",
    "scaler.fit(x_train)\n",
    "x_train = scaler.transform(x_train)\n",
    "scaler.fit(x_val)\n",
    "x_val = scaler.transform(x_val)\n",
    "scaler.fit(X_test)\n",
    "X_test = scaler.transform(X_test)"
   ]
  },
  {
   "cell_type": "code",
   "execution_count": 68,
   "metadata": {},
   "outputs": [
    {
     "name": "stdout",
     "output_type": "stream",
     "text": [
      "Score by k : [0.8055154025464921, 0.8095557207446425, 0.828088475244423, 0.8349085341766221, 0.8387634474718169]\n",
      "Index : 62 \n",
      "Score : 0.8524035996869956 \n",
      "Best k:  62\n"
     ]
    }
   ],
   "source": [
    "k_range = range(1, 128, 1)\n",
    "k_scores = []\n",
    "for k in k_range:\n",
    "    knn = KNeighborsClassifier(n_neighbors=k)\n",
    "    scores = cross_val_score(knn, x_train, y_train, cv=5, scoring='accuracy')\n",
    "    k_scores.append(scores.mean())\n",
    "print('Score by k :', k_scores[:5])\n",
    "\n",
    "for i in range(len(k_scores)):\n",
    "    if k_scores[i] == max(k_scores):\n",
    "        best_k = i\n",
    "        print('Index :', i,'\\nScore :', max(k_scores), '\\nBest k: ', best_k)"
   ]
  },
  {
   "cell_type": "code",
   "execution_count": 69,
   "metadata": {},
   "outputs": [],
   "source": [
    "knn_model_train = KNeighborsClassifier(n_neighbors=best_k).fit(x_train, y_train) \n",
    "y_pred_val = knn_model_train.predict(x_val)\n",
    "y_pred_test = knn_model_train.predict(X_test)"
   ]
  },
  {
   "cell_type": "code",
   "execution_count": 70,
   "metadata": {},
   "outputs": [
    {
     "name": "stdout",
     "output_type": "stream",
     "text": [
      "KNN 0-1 loss on validation: 0.15641215715344703\n",
      "KNN 0-1 loss on validation: 0.09783468815193153\n"
     ]
    }
   ],
   "source": [
    "print(\"KNN 0-1 loss on validation:\",metrics.zero_one_loss(y_val, y_pred_val))\n",
    "print(\"KNN 0-1 loss on validation:\",metrics.zero_one_loss(y_test, y_pred_test))"
   ]
  }
 ],
 "metadata": {
  "kernelspec": {
   "display_name": "Python 3",
   "language": "python",
   "name": "python3"
  },
  "language_info": {
   "codemirror_mode": {
    "name": "ipython",
    "version": 3
   },
   "file_extension": ".py",
   "mimetype": "text/x-python",
   "name": "python",
   "nbconvert_exporter": "python",
   "pygments_lexer": "ipython3",
   "version": "3.10.11"
  },
  "orig_nbformat": 4
 },
 "nbformat": 4,
 "nbformat_minor": 2
}
