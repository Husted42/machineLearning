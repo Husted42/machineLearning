{
 "cells": [
  {
   "cell_type": "code",
   "execution_count": 1,
   "metadata": {},
   "outputs": [],
   "source": [
    "import numpy as np\n",
    "import matplotlib.pyplot as plt\n",
    "import pandas as pd\n",
    "import warnings\n",
    "\n",
    "from sklearn.preprocessing import StandardScaler\n",
    "from sklearn.model_selection import train_test_split\n",
    "from sklearn.neighbors import KNeighborsClassifier\n",
    "from sklearn.model_selection import cross_val_score\n",
    "from sklearn import metrics\n",
    "from sklearn.ensemble import RandomForestClassifier"
   ]
  },
  {
   "cell_type": "code",
   "execution_count": 2,
   "metadata": {},
   "outputs": [],
   "source": [
    "X_test = np.loadtxt(\"data/data01/X_test.csv\", delimiter=\",\", dtype=float)\n",
    "X_train = np.loadtxt(\"data/data01/X_train.csv\", delimiter=\",\", dtype=float)\n",
    "y_test = np.loadtxt(\"data/data01/y_test.csv\", delimiter=\",\", dtype=float)\n",
    "Y_train = np.loadtxt(\"data/data01/y_train.csv\", delimiter=\",\", dtype=float)"
   ]
  },
  {
   "cell_type": "code",
   "execution_count": 3,
   "metadata": {},
   "outputs": [
    {
     "name": "stdout",
     "output_type": "stream",
     "text": [
      "(26979, 16) (6745, 16) (26979,) (6745,)\n"
     ]
    }
   ],
   "source": [
    "x_train, x_val, y_train, y_val = train_test_split(X_train, Y_train, test_size = 0.2, random_state = 42)\n",
    "print(np.shape(x_train), np.shape(x_val), np.shape(y_train), np.shape(y_val))"
   ]
  },
  {
   "cell_type": "code",
   "execution_count": 4,
   "metadata": {},
   "outputs": [],
   "source": [
    "scaler = StandardScaler()\n",
    "scaler.fit(x_train)\n",
    "x_train = scaler.transform(x_train)\n",
    "scaler.fit(x_val)\n",
    "x_val = scaler.transform(x_val)\n",
    "scaler.fit(X_test)\n",
    "X_test = scaler.transform(X_test)"
   ]
  },
  {
   "cell_type": "markdown",
   "metadata": {},
   "source": [
    "# KNN"
   ]
  },
  {
   "cell_type": "code",
   "execution_count": 5,
   "metadata": {},
   "outputs": [
    {
     "name": "stdout",
     "output_type": "stream",
     "text": [
      "Score by k : [0.8029651593773165, 0.8345441067457375, 0.8367679762787249, 0.8391401037805781, 0.8391401037805781]\n",
      "Index : 3 \n",
      "Score : 0.8391401037805781 \n",
      "Best k:  3\n",
      "Index : 4 \n",
      "Score : 0.8391401037805781 \n",
      "Best k:  4\n"
     ]
    }
   ],
   "source": [
    "warnings.filterwarnings('ignore') \n",
    "k_range = range(1, 100, 10)\n",
    "k_scores = []\n",
    "for k in k_range:\n",
    "    knn = KNeighborsClassifier(n_neighbors=k)\n",
    "    scores = cross_val_score(knn, x_val, y_val, cv=5, scoring='accuracy')\n",
    "    k_scores.append(scores.mean())\n",
    "print('Score by k :', k_scores[:5])\n",
    "\n",
    "for i in range(len(k_scores)):\n",
    "    if k_scores[i] == max(k_scores):\n",
    "        best_k = i\n",
    "        print('Index :', i,'\\nScore :', max(k_scores), '\\nBest k: ', best_k)\n",
    "warnings.filterwarnings('default')"
   ]
  },
  {
   "cell_type": "code",
   "execution_count": 6,
   "metadata": {},
   "outputs": [],
   "source": [
    "warnings.filterwarnings('ignore') \n",
    "knn_model_train = KNeighborsClassifier(n_neighbors=best_k).fit(x_train, y_train) \n",
    "y_pred_val = knn_model_train.predict(x_val)\n",
    "y_pred_test = knn_model_train.predict(X_test)\n",
    "warnings.filterwarnings('default')"
   ]
  },
  {
   "cell_type": "code",
   "execution_count": 7,
   "metadata": {},
   "outputs": [
    {
     "name": "stdout",
     "output_type": "stream",
     "text": [
      "KNN 0-1 loss on validation: 0.17361008154188284\n",
      "KNN 0-1 loss on validation: 0.12790446730451044\n"
     ]
    }
   ],
   "source": [
    "print(\"KNN 0-1 loss on validation:\",metrics.zero_one_loss(y_val, y_pred_val))\n",
    "print(\"KNN 0-1 loss on validation:\",metrics.zero_one_loss(y_test, y_pred_test))"
   ]
  },
  {
   "cell_type": "markdown",
   "metadata": {},
   "source": [
    "# Random Forest"
   ]
  },
  {
   "cell_type": "code",
   "execution_count": 8,
   "metadata": {},
   "outputs": [],
   "source": [
    "forest_model_train_50 = RandomForestClassifier(max_depth = 50, random_state=42)\n",
    "forest_model_train_100 = RandomForestClassifier(max_depth = 100, random_state=42)\n",
    "forest_model_train_200 = RandomForestClassifier(max_depth = 200, random_state=42)\n",
    "forest_model_train_50.fit(x_train, y_train) \n",
    "forest_model_train_100.fit(x_train, y_train) \n",
    "forest_model_train_200.fit(x_train, y_train) \n",
    "y_pred_val_50 = forest_model_train_50.predict(x_val) \n",
    "y_pred_val_100 = forest_model_train_100.predict(x_val) \n",
    "y_pred_val_200 = forest_model_train_200.predict(x_val) \n",
    "y_pred_test_50 = forest_model_train_50.predict(X_test) \n",
    "y_pred_test_100 = forest_model_train_100.predict(X_test) \n",
    "y_pred_test_200 = forest_model_train_200.predict(X_test) "
   ]
  },
  {
   "cell_type": "code",
   "execution_count": 9,
   "metadata": {},
   "outputs": [
    {
     "name": "stdout",
     "output_type": "stream",
     "text": [
      "{'bootstrap': True, 'ccp_alpha': 0.0, 'class_weight': None, 'criterion': 'gini', 'max_depth': 50, 'max_features': 'auto', 'max_leaf_nodes': None, 'max_samples': None, 'min_impurity_decrease': 0.0, 'min_samples_leaf': 1, 'min_samples_split': 2, 'min_weight_fraction_leaf': 0.0, 'n_estimators': 100, 'n_jobs': None, 'oob_score': False, 'random_state': 42, 'verbose': 0, 'warm_start': False}\n",
      "{'bootstrap': True, 'ccp_alpha': 0.0, 'class_weight': None, 'criterion': 'gini', 'max_depth': 100, 'max_features': 'auto', 'max_leaf_nodes': None, 'max_samples': None, 'min_impurity_decrease': 0.0, 'min_samples_leaf': 1, 'min_samples_split': 2, 'min_weight_fraction_leaf': 0.0, 'n_estimators': 100, 'n_jobs': None, 'oob_score': False, 'random_state': 42, 'verbose': 0, 'warm_start': False}\n",
      "{'bootstrap': True, 'ccp_alpha': 0.0, 'class_weight': None, 'criterion': 'gini', 'max_depth': 200, 'max_features': 'auto', 'max_leaf_nodes': None, 'max_samples': None, 'min_impurity_decrease': 0.0, 'min_samples_leaf': 1, 'min_samples_split': 2, 'min_weight_fraction_leaf': 0.0, 'n_estimators': 100, 'n_jobs': None, 'oob_score': False, 'random_state': 42, 'verbose': 0, 'warm_start': False}\n"
     ]
    }
   ],
   "source": [
    "print(forest_model_train_50.get_params())\n",
    "print(forest_model_train_100.get_params())\n",
    "print(forest_model_train_200.get_params())"
   ]
  },
  {
   "cell_type": "code",
   "execution_count": 10,
   "metadata": {},
   "outputs": [
    {
     "name": "stdout",
     "output_type": "stream",
     "text": [
      "Forest: 50 trees on val   : 0.15374351371386208\n",
      "Forest: 100 trees on val  : 0.15374351371386208\n",
      "Forest: 200 trees on val  : 0.15374351371386208\n",
      "Forest: 50 trees on train : 0.11056758506582265\n",
      "Forest: 100 trees on train: 0.11056758506582265\n",
      "Forest: 200 trees on train: 0.11056758506582265\n"
     ]
    }
   ],
   "source": [
    "print(\"Forest: 50 trees on val   :\",metrics.zero_one_loss(y_val, y_pred_val_50))\n",
    "print(\"Forest: 100 trees on val  :\",metrics.zero_one_loss(y_val, y_pred_val_100))\n",
    "print(\"Forest: 200 trees on val  :\",metrics.zero_one_loss(y_val, y_pred_val_200))\n",
    "print(\"Forest: 50 trees on train :\",metrics.zero_one_loss(y_test, y_pred_test_50))\n",
    "print(\"Forest: 100 trees on train:\",metrics.zero_one_loss(y_test, y_pred_test_100))\n",
    "print(\"Forest: 200 trees on train:\",metrics.zero_one_loss(y_test, y_pred_test_200))"
   ]
  }
 ],
 "metadata": {
  "kernelspec": {
   "display_name": "Python 3",
   "language": "python",
   "name": "python3"
  },
  "language_info": {
   "codemirror_mode": {
    "name": "ipython",
    "version": 3
   },
   "file_extension": ".py",
   "mimetype": "text/x-python",
   "name": "python",
   "nbconvert_exporter": "python",
   "pygments_lexer": "ipython3",
   "version": "3.9.13"
  },
  "orig_nbformat": 4
 },
 "nbformat": 4,
 "nbformat_minor": 2
}
