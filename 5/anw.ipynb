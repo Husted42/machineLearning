{
 "cells": [
  {
   "cell_type": "code",
   "execution_count": 16,
   "metadata": {},
   "outputs": [],
   "source": [
    "import numpy as np\n",
    "import matplotlib.pyplot as plt\n",
    "import pandas as pd\n",
    "import warnings\n",
    "\n",
    "#Sklearn\n",
    "from sklearn.model_selection import train_test_split\n",
    "from sklearn.linear_model import LogisticRegression\n",
    "from sklearn.ensemble import RandomForestClassifier\n",
    "from sklearn import metrics"
   ]
  },
  {
   "cell_type": "code",
   "execution_count": 17,
   "metadata": {},
   "outputs": [],
   "source": [
    "X_test = np.loadtxt(\"X_test.csv\", delimiter=\",\", dtype=float)\n",
    "X_train = np.loadtxt(\"X_train.csv\", delimiter=\",\", dtype=float)\n",
    "y_test = np.loadtxt(\"y_test.csv\", delimiter=\",\", dtype=float)\n",
    "y_train = np.loadtxt(\"y_train.csv\", delimiter=\",\", dtype=float)"
   ]
  },
  {
   "cell_type": "code",
   "execution_count": 18,
   "metadata": {},
   "outputs": [
    {
     "name": "stdout",
     "output_type": "stream",
     "text": [
      "(13901, 16)\n",
      "(33724, 16)\n",
      "(13901,)\n",
      "(33724,)\n"
     ]
    }
   ],
   "source": [
    "for elm in [X_test, X_train, y_test, y_train]:\n",
    "    # print(elm[0])\n",
    "    print(elm.shape)\n",
    "    # print(elm.head())"
   ]
  },
  {
   "cell_type": "code",
   "execution_count": 19,
   "metadata": {},
   "outputs": [
    {
     "name": "stdout",
     "output_type": "stream",
     "text": [
      "[0.0, 1.0, 2.0, 3.0, 4.0]\n",
      "[0.5208753410034397, 0.09551061558533981, 0.25272802751749496, 0.04693986478472305, 0.08394615110900248]\n"
     ]
    }
   ],
   "source": [
    "unique, frequency = np.unique(y_train, return_counts = True)\n",
    "length = len(y_train)\n",
    "freqLst = []\n",
    "for elm in frequency:\n",
    "    freqLst.append(elm/length)\n",
    "\n",
    "print(list(unique))\n",
    "print(freqLst)"
   ]
  },
  {
   "cell_type": "markdown",
   "metadata": {},
   "source": [
    "# Datasplit"
   ]
  },
  {
   "cell_type": "code",
   "execution_count": 20,
   "metadata": {},
   "outputs": [
    {
     "name": "stdout",
     "output_type": "stream",
     "text": [
      "(33724, 16)\n",
      "(26979, 16) (6745, 16) (26979,) (6745,)\n"
     ]
    }
   ],
   "source": [
    "print(np.shape(X_train))\n",
    "x_train, x_val, y_train, y_val = train_test_split(X_train, y_train, test_size = 0.2, random_state = 42)\n",
    "print(np.shape(x_train), np.shape(x_val), np.shape(y_train), np.shape(y_val))"
   ]
  },
  {
   "cell_type": "markdown",
   "metadata": {},
   "source": [
    "# Models"
   ]
  },
  {
   "cell_type": "markdown",
   "metadata": {},
   "source": [
    "### Multi-nominal logistic regression."
   ]
  },
  {
   "cell_type": "code",
   "execution_count": 21,
   "metadata": {},
   "outputs": [],
   "source": [
    "warnings.filterwarnings('ignore') \n",
    "log_model_test = LogisticRegression(multi_class = 'multinomial') \n",
    "log_model_test.fit(x_train, y_train) \n",
    "y_pred_val = log_model_test.predict(x_val) \n",
    "y_pred_test = log_model_test.predict(X_test) \n",
    "warnings.filterwarnings('default')"
   ]
  },
  {
   "cell_type": "code",
   "execution_count": 22,
   "metadata": {},
   "outputs": [
    {
     "name": "stdout",
     "output_type": "stream",
     "text": [
      "Logistic Regression 0-1 loss: 0.1543365455893254\n",
      "Logistic Regression 0-1 loss: 0.09884180994173086\n"
     ]
    }
   ],
   "source": [
    "print(\"Logistic Regression 0-1 loss:\",metrics.zero_one_loss(y_val, y_pred_val))\n",
    "print(\"Logistic Regression 0-1 loss:\",metrics.zero_one_loss(y_test, y_pred_test))"
   ]
  },
  {
   "cell_type": "markdown",
   "metadata": {},
   "source": [
    "### Random forest"
   ]
  },
  {
   "cell_type": "code",
   "execution_count": 23,
   "metadata": {},
   "outputs": [
    {
     "name": "stdout",
     "output_type": "stream",
     "text": [
      "Forest: 50 trees on val   : 0.15181616011860632\n",
      "Forest: 100 trees on val  : 0.15255744996293552\n",
      "Forest: 200 trees on val  : 0.1501853224610823\n",
      "Forest: 50 trees on train : 0.1103517732537228\n",
      "Forest: 100 trees on train: 0.11027983598302282\n",
      "Forest: 200 trees on train: 0.111502769584922\n"
     ]
    }
   ],
   "source": [
    "forest_model_test_50 = RandomForestClassifier(max_depth = 50)\n",
    "forest_model_test_100 = RandomForestClassifier(max_depth = 100)\n",
    "forest_model_test_200 = RandomForestClassifier(max_depth = 200)\n",
    "forest_model_test_50.fit(x_train, y_train) \n",
    "forest_model_test_100.fit(x_train, y_train) \n",
    "forest_model_test_200.fit(x_train, y_train) \n",
    "y_pred_test_50 = forest_model_test_50.predict(x_val) \n",
    "y_pred_test_100 = forest_model_test_100.predict(x_val) \n",
    "y_pred_test_200 = forest_model_test_200.predict(x_val) \n",
    "y_pred_train_50 = forest_model_test_50.predict(X_test) \n",
    "y_pred_train_100 = forest_model_test_100.predict(X_test) \n",
    "y_pred_train_200 = forest_model_test_200.predict(X_test) \n",
    "print(\"Forest: 50 trees on val   :\",metrics.zero_one_loss(y_val, y_pred_test_50))\n",
    "print(\"Forest: 100 trees on val  :\",metrics.zero_one_loss(y_val, y_pred_test_100))\n",
    "print(\"Forest: 200 trees on val  :\",metrics.zero_one_loss(y_val, y_pred_test_200))\n",
    "print(\"Forest: 50 trees on train :\",metrics.zero_one_loss(y_test, y_pred_train_50))\n",
    "print(\"Forest: 100 trees on train:\",metrics.zero_one_loss(y_test, y_pred_train_100))\n",
    "print(\"Forest: 200 trees on train:\",metrics.zero_one_loss(y_test, y_pred_train_200))"
   ]
  }
 ],
 "metadata": {
  "kernelspec": {
   "display_name": "Python 3",
   "language": "python",
   "name": "python3"
  },
  "language_info": {
   "codemirror_mode": {
    "name": "ipython",
    "version": 3
   },
   "file_extension": ".py",
   "mimetype": "text/x-python",
   "name": "python",
   "nbconvert_exporter": "python",
   "pygments_lexer": "ipython3",
   "version": "3.10.11"
  },
  "orig_nbformat": 4
 },
 "nbformat": 4,
 "nbformat_minor": 2
}
