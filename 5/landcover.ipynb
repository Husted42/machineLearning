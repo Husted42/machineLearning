{
 "cells": [
  {
   "cell_type": "markdown",
   "metadata": {},
   "source": [
    "You are supposed to train and apply a boosting model for landcover classification. Below, you can find some code that already parses the data. For your submission, run and submit the extended jupyter notebook."
   ]
  },
  {
   "cell_type": "code",
   "execution_count": 30,
   "metadata": {},
   "outputs": [],
   "source": [
    "import numpy as np\n",
    "from sklearn.ensemble import AdaBoostClassifier\n",
    "from sklearn.tree import DecisionTreeClassifier\n",
    "from sklearn.model_selection import GridSearchCV\n",
    "\n",
    "from sklearn.metrics import confusion_matrix\n",
    "import matplotlib.pyplot as plt\n",
    "import seaborn as sns\n",
    "\n",
    "import warnings\n",
    "from sklearn.metrics import accuracy_score"
   ]
  },
  {
   "cell_type": "code",
   "execution_count": 20,
   "metadata": {},
   "outputs": [],
   "source": [
    "# load data\n",
    "train = np.load('./train.npz')\n",
    "X_train = train[\"X\"]\n",
    "y_train = train[\"y\"].reshape((-1,1))\n",
    "\n",
    "test = np.load('./test.npz')\n",
    "X_test = test[\"X\"]\n",
    "y_test = test[\"y\"].reshape((-1,1))\n",
    "\n",
    "classes = {\n",
    "    1: \"cultivated_land\",\n",
    "    2: \"forest\",\n",
    "    3: \"grassland\",\n",
    "    4: \"shrubland\",\n",
    "    5: \"water\",\n",
    "    8: \"artificial_surface\",\n",
    "    9: \"bareland\"\n",
    "}\n"
   ]
  },
  {
   "cell_type": "code",
   "execution_count": 21,
   "metadata": {},
   "outputs": [
    {
     "name": "stdout",
     "output_type": "stream",
     "text": [
      "Shape of training data: (6953, 12, 13, 13, 6)\n",
      "Shape of training labels: (6953, 1)\n",
      "Shape of test data: (1739, 12, 13, 13, 6)\n",
      "Shape of test labels: (1739, 1)\n"
     ]
    }
   ],
   "source": [
    "print(\"Shape of training data: {}\".format(X_train.shape))\n",
    "print(\"Shape of training labels: {}\".format(y_train.shape))\n",
    "print(\"Shape of test data: {}\".format(X_test.shape))\n",
    "print(\"Shape of test labels: {}\".format(y_test.shape))"
   ]
  },
  {
   "cell_type": "markdown",
   "metadata": {},
   "source": [
    "The training and test set contain a few thousand instances. Each instance is based on image of size 13x13 pixels, which are available for 12 timestamps and 6 bands. That is, one is given an array of shape (12,13,13,6) for each instance. The label arrays contain the labels associated with the instances, where the central pixel/position determines the class of the (whole) image array for each instance, see below."
   ]
  },
  {
   "cell_type": "code",
   "execution_count": 22,
   "metadata": {},
   "outputs": [],
   "source": [
    "# visualize some of the (image) data\n",
    "\n",
    "# import matplotlib.cm as cm\n",
    "# import matplotlib.pyplot as plt\n",
    "\n",
    "# idx = 0\n",
    "\n",
    "# print(\"Label (i.e., class of pixel in the center of the images) for image sequence: {}\".format(classes[y_train[idx,0]]))\n",
    "\n",
    "# for year in range(12):\n",
    "#     fig, axs = plt.subplots(1, 6, figsize=(24, 4))\n",
    "#     for b in range(6):\n",
    "#         axs[b].imshow(X_train[idx, year, :, :, b], cmap=plt.get_cmap(\"Greys\"))\n",
    "#         axs[b].set_title(\"Band {}\".format(b+1))"
   ]
  },
  {
   "cell_type": "markdown",
   "metadata": {},
   "source": [
    "# Preproccesing"
   ]
  },
  {
   "cell_type": "code",
   "execution_count": 23,
   "metadata": {},
   "outputs": [
    {
     "name": "stdout",
     "output_type": "stream",
     "text": [
      "Class cultivated_land (number 1): 2.53%\n",
      "Class forest (number 2): 66.42%\n",
      "Class grassland (number 3): 12.88%\n",
      "Class shrubland (number 4): 8.80%\n",
      "Class water (number 5): 0.75%\n",
      "Class artificial_surface (number 8): 2.42%\n",
      "Class bareland (number 9): 6.21%\n",
      "\n",
      "\n"
     ]
    }
   ],
   "source": [
    "# Count occurrences of each number in the array\n",
    "def calculate_distribution(input):\n",
    "    unique, counts = np.unique(input, return_counts=True)\n",
    "    counter = dict(zip(unique, counts))\n",
    "\n",
    "    total = len(input)\n",
    "\n",
    "    for number, count in counter.items():\n",
    "        percentage = (count / total) * 100\n",
    "        class_name = classes.get(number, \"Unknown class\")\n",
    "        print(f\"Class {class_name} (number {number}): {percentage:.2f}%\")\n",
    "    print(\"\\n\")\n",
    "\n",
    "calculate_distribution(y_test)"
   ]
  },
  {
   "cell_type": "code",
   "execution_count": 24,
   "metadata": {},
   "outputs": [],
   "source": [
    "# We extract only the center pixed of each image sequence, such taht 1 pixel x 6 bands x 12 timestamps = 72 features\n",
    "def extract_central_pixel(data):\n",
    "    central_pixel = data[:, :, 6, 6, :]\n",
    "    feature_vectors = central_pixel.reshape(data.shape[0], -1)\n",
    "    return feature_vectors\n",
    "\n",
    "X_train = extract_central_pixel(X_train)\n",
    "X_test = extract_central_pixel(X_test)\n"
   ]
  },
  {
   "cell_type": "code",
   "execution_count": 25,
   "metadata": {},
   "outputs": [
    {
     "name": "stdout",
     "output_type": "stream",
     "text": [
      "X_train:  (6953, 72) , X_test:  (1739, 72)\n"
     ]
    }
   ],
   "source": [
    "print(\"X_train: \", X_train.shape, \", X_test: \", X_test.shape) # Should be (6953, 72)"
   ]
  },
  {
   "cell_type": "markdown",
   "metadata": {},
   "source": [
    "# AdaBoost "
   ]
  },
  {
   "cell_type": "code",
   "execution_count": 26,
   "metadata": {},
   "outputs": [
    {
     "name": "stdout",
     "output_type": "stream",
     "text": [
      "Fitting 2 folds for each of 9 candidates, totalling 18 fits\n"
     ]
    },
    {
     "name": "stdout",
     "output_type": "stream",
     "text": [
      "[CV 1/2] END base_estimator__max_depth=1, n_estimators=50;, score=0.698 total time=   1.2s\n",
      "[CV 2/2] END base_estimator__max_depth=1, n_estimators=50;, score=0.640 total time=   1.2s\n",
      "[CV 1/2] END base_estimator__max_depth=1, n_estimators=100;, score=0.688 total time=   2.4s\n",
      "[CV 2/2] END base_estimator__max_depth=1, n_estimators=100;, score=0.640 total time=   2.4s\n",
      "[CV 1/2] END base_estimator__max_depth=1, n_estimators=200;, score=0.674 total time=   4.6s\n",
      "[CV 2/2] END base_estimator__max_depth=1, n_estimators=200;, score=0.636 total time=   4.8s\n",
      "[CV 1/2] END base_estimator__max_depth=2, n_estimators=50;, score=0.659 total time=   2.1s\n",
      "[CV 2/2] END base_estimator__max_depth=2, n_estimators=50;, score=0.703 total time=   2.2s\n",
      "[CV 1/2] END base_estimator__max_depth=2, n_estimators=100;, score=0.635 total time=   4.6s\n",
      "[CV 2/2] END base_estimator__max_depth=2, n_estimators=100;, score=0.660 total time=   4.5s\n",
      "[CV 1/2] END base_estimator__max_depth=2, n_estimators=200;, score=0.603 total time=  10.1s\n",
      "[CV 2/2] END base_estimator__max_depth=2, n_estimators=200;, score=0.579 total time=  10.4s\n",
      "[CV 1/2] END base_estimator__max_depth=3, n_estimators=50;, score=0.574 total time=   3.2s\n",
      "[CV 2/2] END base_estimator__max_depth=3, n_estimators=50;, score=0.695 total time=   3.4s\n",
      "[CV 1/2] END base_estimator__max_depth=3, n_estimators=100;, score=0.577 total time=   7.2s\n",
      "[CV 2/2] END base_estimator__max_depth=3, n_estimators=100;, score=0.667 total time=   6.4s\n",
      "[CV 1/2] END base_estimator__max_depth=3, n_estimators=200;, score=0.725 total time=  13.8s\n",
      "[CV 2/2] END base_estimator__max_depth=3, n_estimators=200;, score=0.734 total time=  12.9s\n"
     ]
    },
    {
     "data": {
      "text/plain": [
       "({'base_estimator__max_depth': 3, 'n_estimators': 200}, 0.7296137315973819)"
      ]
     },
     "execution_count": 26,
     "metadata": {},
     "output_type": "execute_result"
    }
   ],
   "source": [
    "warnings.filterwarnings('ignore')\n",
    "# Define estimator and classifier\n",
    "base_estimator = DecisionTreeClassifier(criterion='gini')\n",
    "ada_boost = AdaBoostClassifier(base_estimator=base_estimator)\n",
    "\n",
    "param_grid = {\n",
    "    'base_estimator__max_depth': [1, 2, 3],  # Depth of each decision tree\n",
    "    'n_estimators': [50, 100, 200]  # Number of boosted trees\n",
    "}\n",
    "\n",
    "# Initialize GridSearchCV with 2-fold cross-validation\n",
    "grid_search = GridSearchCV(ada_boost, param_grid, cv=2, verbose=3)\n",
    "\n",
    "# Fit the GridSearchCV model\n",
    "grid_search.fit(X_train, y_train)\n",
    "\n",
    "# Get the best parameters and the performance of the best model\n",
    "best_params = grid_search.best_params_\n",
    "best_score = grid_search.best_score_\n",
    "\n",
    "best_params, best_score"
   ]
  },
  {
   "cell_type": "markdown",
   "metadata": {},
   "source": [
    "Retraining of the model on the entire dataset using the parameters from gridsearch"
   ]
  },
  {
   "cell_type": "code",
   "execution_count": 27,
   "metadata": {},
   "outputs": [
    {
     "data": {
      "image/png": "[encoded data removed]",
      "text/plain": [
       "<Figure size 800x600 with 2 Axes>"
      ]
     },
     "metadata": {},
     "output_type": "display_data"
    }
   ],
   "source": [
    "# Model\n",
    "ada_boost_model = AdaBoostClassifier(\n",
    "    base_estimator=DecisionTreeClassifier(max_depth=3),\n",
    "    n_estimators=200\n",
    ")\n",
    "ada_boost_model.fit(X_train, y_train)\n",
    "\n",
    "# Predictions\n",
    "y_pred = ada_boost_model.predict(X_test)\n",
    "\n",
    "# Confusion matrix\n",
    "conf_matrix = confusion_matrix(y_test, y_pred)\n",
    "\n",
    "# Plotting the confusion matrix\n",
    "plt.figure(figsize=(8, 6))\n",
    "sns.heatmap(conf_matrix, annot=True, fmt='g', cmap='Blues')\n",
    "plt.xlabel('Predicted labels')\n",
    "plt.ylabel('True labels')\n",
    "plt.title('Confusion Matrix')\n",
    "plt.show()\n"
   ]
  },
  {
   "cell_type": "code",
   "execution_count": 28,
   "metadata": {},
   "outputs": [
    {
     "name": "stdout",
     "output_type": "stream",
     "text": [
      "Class cultivated_land (number 1): 3.22%\n",
      "Class forest (number 2): 63.94%\n",
      "Class grassland (number 3): 14.43%\n",
      "Class shrubland (number 4): 8.80%\n",
      "Class water (number 5): 0.23%\n",
      "Class artificial_surface (number 8): 1.61%\n",
      "Class bareland (number 9): 7.76%\n",
      "\n",
      "\n"
     ]
    }
   ],
   "source": [
    "calculate_distribution(y_pred)"
   ]
  },
  {
   "cell_type": "code",
   "execution_count": 31,
   "metadata": {},
   "outputs": [
    {
     "name": "stdout",
     "output_type": "stream",
     "text": [
      "Model Accuracy: 70.04%\n"
     ]
    }
   ],
   "source": [
    "accuracy = accuracy_score(y_test, y_pred)\n",
    "print(f\"Model Accuracy: {accuracy * 100:.2f}%\")"
   ]
  }
 ],
 "metadata": {
  "kernelspec": {
   "display_name": "Python 3",
   "language": "python",
   "name": "python3"
  },
  "language_info": {
   "codemirror_mode": {
    "name": "ipython",
    "version": 3
   },
   "file_extension": ".py",
   "mimetype": "text/x-python",
   "name": "python",
   "nbconvert_exporter": "python",
   "pygments_lexer": "ipython3",
   "version": "3.9.13"
  }
 },
 "nbformat": 4,
 "nbformat_minor": 2
}
