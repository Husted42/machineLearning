{
 "cells": [
  {
   "cell_type": "markdown",
   "metadata": {},
   "source": [
    "# Data understanding and preprocessing"
   ]
  },
  {
   "cell_type": "markdown",
   "metadata": {},
   "source": [
    "### Data load"
   ]
  },
  {
   "cell_type": "code",
   "execution_count": 69,
   "metadata": {},
   "outputs": [],
   "source": [
    "import numpy as np\n",
    "from sklearn.preprocessing import StandardScaler\n",
    "\n",
    "from sklearn.metrics import make_scorer, zero_one_loss\n",
    "from sklearn.model_selection import GridSearchCV\n",
    "from sklearn.svm import SVC"
   ]
  },
  {
   "cell_type": "code",
   "execution_count": 70,
   "metadata": {},
   "outputs": [],
   "source": [
    "y_train = np.loadtxt('y_train_binary.csv', delimiter=',')\n",
    "y_test = np.loadtxt('y_test_binary.csv', delimiter=',')\n",
    "X_train = np.loadtxt('X_train_binary.csv', delimiter=',')\n",
    "X_test = np.loadtxt('X_test_binary.csv', delimiter=',')"
   ]
  },
  {
   "cell_type": "code",
   "execution_count": 71,
   "metadata": {},
   "outputs": [
    {
     "name": "stdout",
     "output_type": "stream",
     "text": [
      "X_train shape: (150, 61)\n",
      "[ 2.3350e-01  0.0000e+00  7.5680e-02  1.6718e-01  3.3433e-01  5.6597e-01\n",
      "  8.3368e-01 -2.6516e+00  2.8234e+00  1.2917e-01  7.7993e-02  4.4053e-02\n",
      "  1.9141e-02  1.3193e+00 -1.5318e+00  2.9943e+00  1.5345e+00  6.8333e-03\n",
      "  2.4296e-03  3.1153e-04  1.3678e-04  5.8885e+00 -3.2956e-01 -1.6802e-01\n",
      " -2.1903e+00  5.7364e-03  6.6731e-04  1.7311e-04  1.1276e-05  4.7518e+00\n",
      " -2.5333e+00  1.6317e+00 -9.6839e-01  5.2901e-02  4.4408e-02  4.4636e+00\n",
      "  3.6019e+00  1.1983e+01  3.0226e-01  2.9189e-01  1.3080e-06  2.5472e-03\n",
      " -7.2104e-06  2.6000e+01  2.8000e-02  6.5919e-01  9.7047e-01  3.0958e-02\n",
      "  2.9107e+00  6.7857e-01  2.3018e+00  3.1008e-01  2.9314e-01  2.8908e+00\n",
      "  8.0693e-02  4.0705e-01  1.4590e+00  1.6782e+00  1.1629e-01 -2.5700e-01\n",
      "  8.6146e-01]\n"
     ]
    }
   ],
   "source": [
    "print('X_train shape:', X_train.shape)\n",
    "print(X_train[0])"
   ]
  },
  {
   "cell_type": "markdown",
   "metadata": {},
   "source": [
    "### Data preprocessing"
   ]
  },
  {
   "cell_type": "markdown",
   "metadata": {},
   "source": [
    "Get the frequencies of each class in the training set"
   ]
  },
  {
   "cell_type": "code",
   "execution_count": 72,
   "metadata": {},
   "outputs": [
    {
     "name": "stdout",
     "output_type": "stream",
     "text": [
      "Class -1.0: 45.33%\n",
      "Class 1.0: 54.67%\n"
     ]
    }
   ],
   "source": [
    "class_counts = np.unique(y_train, return_counts=True)\n",
    "total_data_points = len(y_train)\n",
    "\n",
    "class_frequencies = class_counts[1] / total_data_points\n",
    "\n",
    "for class_label, frequency in zip(class_counts[0], class_frequencies):\n",
    "    print(f\"Class {class_label}: {frequency:.2%}\")\n"
   ]
  },
  {
   "cell_type": "markdown",
   "metadata": {},
   "source": [
    "Transform data to zero mean and unit variance"
   ]
  },
  {
   "cell_type": "code",
   "execution_count": 73,
   "metadata": {},
   "outputs": [
    {
     "name": "stdout",
     "output_type": "stream",
     "text": [
      "Mean: [ 3.12016667e-01  1.19002133e-03  8.88565533e-02  1.69619973e-01\n",
      "  2.90525800e-01  4.93438333e-01  7.56135600e-01 -2.14976509e+00\n",
      "  2.09830876e+00  1.11999747e-01  1.07688547e-01  5.00619593e-02\n",
      "  4.75127227e-02  6.85888707e-01 -1.59077333e+00  1.90434667e-01\n",
      "  1.52237987e+00  1.55371807e-02  2.57776455e-03  3.00196533e-03\n",
      "  4.61159247e-04  1.98633014e+00 -2.47071107e-01  5.66055780e-02\n",
      " -4.41235733e-02  1.10457260e-02  2.56409825e-03  8.67068651e-04\n",
      "  2.19285465e-04  2.85879909e+00  3.16466867e-02 -4.16886333e-02\n",
      " -2.71012920e-01  1.51912793e-01  1.13373287e-01  4.52113072e+00\n",
      "  6.95909174e+00  1.49569067e+01  4.53269133e-01  3.68771400e-01\n",
      "  3.97319200e-06  3.89819683e-03  3.48878000e-07  1.21960000e+02\n",
      "  4.08200000e-02  6.38288667e-01  1.27133513e+00  6.08435527e-02\n",
      "  1.58987833e+00  6.07201667e-01  1.76779860e+00  3.70571867e-01\n",
      "  3.52433333e-01  3.00013533e+00  3.23182422e-01  4.18279340e-01\n",
      "  1.69910800e+00  3.15320498e+00  1.39558713e-01 -1.46031785e-01\n",
      "  8.09072933e-01]\n",
      "Variance: [2.15440481e-02 8.38085505e-05 1.93037351e-03 6.21794415e-03\n",
      " 1.41282528e-02 2.14700354e-02 1.61899934e-02 5.84795693e+00\n",
      " 5.05748875e+00 2.29917545e-03 3.14924333e-03 5.79538590e-04\n",
      " 1.29395639e-03 2.78679480e-01 6.15231636e-03 9.34345354e+00\n",
      " 3.55024892e-02 1.27995100e-04 1.79701192e-05 4.00877056e-05\n",
      " 1.01250584e-06 3.85023059e+00 3.13855668e+00 4.50431677e+00\n",
      " 3.60084834e+00 6.11613020e-05 1.92322191e-05 3.26352698e-06\n",
      " 1.25099468e-07 6.27393015e+00 3.00894297e+00 3.40431986e+00\n",
      " 3.31826283e+00 1.02204965e-02 6.83225785e-03 4.11259078e+01\n",
      " 1.45155332e+02 4.95636019e+00 3.15117730e-02 1.66094621e-02\n",
      " 2.04913884e-11 1.07630776e-04 7.92505850e-11 6.83905173e+03\n",
      " 4.35284267e-04 2.45448640e-02 1.94359232e-01 1.46646762e-03\n",
      " 2.55837542e-01 8.12458266e-02 2.22260858e-01 1.93176354e-02\n",
      " 1.47635227e-02 9.32157952e-01 9.57969204e-02 3.93695529e-02\n",
      " 3.18783699e-01 6.76671212e+00 3.21000075e-03 1.33858865e-01\n",
      " 1.31820073e-02]\n"
     ]
    }
   ],
   "source": [
    "print(\"Mean:\", np.mean(X_train, axis=0))\n",
    "print(\"Variance:\", np.var(X_train, axis=0))\n"
   ]
  },
  {
   "cell_type": "code",
   "execution_count": 74,
   "metadata": {},
   "outputs": [
    {
     "name": "stdout",
     "output_type": "stream",
     "text": [
      "Mean: 8.035732067613918e-17\n",
      "Variance: [1. 1. 1. 1. 1. 1. 1. 1. 1. 1. 1. 1. 1. 1. 1. 1. 1. 1. 1. 1. 1. 1. 1. 1.\n",
      " 1. 1. 1. 1. 1. 1. 1. 1. 1. 1. 1. 1. 1. 1. 1. 1. 1. 1. 1. 1. 1. 1. 1. 1.\n",
      " 1. 1. 1. 1. 1. 1. 1. 1. 1. 1. 1. 1. 1.]\n"
     ]
    }
   ],
   "source": [
    "def fnorm(X):\n",
    "    mean = np.mean(X, axis=0)\n",
    "    std = np.std(X, axis=0)\n",
    "    X_normalized = (X - mean) / std\n",
    "    return X_normalized\n",
    "\n",
    "X_train_normalized = fnorm(X_train)\n",
    "\n",
    "# Compute the mean\n",
    "mean = np.mean(X_train_normalized, axis=0)\n",
    "\n",
    "# Compute the variance\n",
    "variance = np.var(X_train_normalized, axis=0)\n",
    "\n",
    "print(\"Mean:\", mean)\n",
    "print(\"Variance:\", variance)"
   ]
  },
  {
   "cell_type": "markdown",
   "metadata": {},
   "source": [
    "# Model selection using grid-search"
   ]
  },
  {
   "cell_type": "code",
   "execution_count": 75,
   "metadata": {},
   "outputs": [
    {
     "name": "stdout",
     "output_type": "stream",
     "text": [
      "Best Parameters: {'C': 10, 'gamma': 0.1}\n",
      "Best Score (0-1 loss): 0.20666666666666664\n"
     ]
    }
   ],
   "source": [
    "# Define the parameter grid\n",
    "param_grid = {'C': [0.1, 1, 10, 100], \n",
    "              'gamma': [0.1, 1, 10, 100]}\n",
    "\n",
    "# Define the model to use\n",
    "svm = SVC()\n",
    "\n",
    "# greater_is_better = False, because we want to minimize the 0-1 loss\n",
    "custom_scorer = make_scorer(zero_one_loss, greater_is_better=False)\n",
    "\n",
    "# Create the GridSearchCV object with zero_one_loss\n",
    "grid_search = GridSearchCV(svm, param_grid, cv=5, scoring=custom_scorer)\n",
    "\n",
    "# Fit the data to perform grid search\n",
    "grid_search.fit(X_train_normalized, y_train)\n",
    "\n",
    "# Report results\n",
    "print(\"Best Parameters:\", grid_search.best_params_)\n",
    "# I negated the score when setting up the greater_is_better=False, so I need to un-negate it. Hence the minus sign.\n",
    "print(\"Best Score (0-1 loss):\", -grid_search.best_score_) \n"
   ]
  }
 ],
 "metadata": {
  "kernelspec": {
   "display_name": "base",
   "language": "python",
   "name": "python3"
  },
  "language_info": {
   "codemirror_mode": {
    "name": "ipython",
    "version": 3
   },
   "file_extension": ".py",
   "mimetype": "text/x-python",
   "name": "python",
   "nbconvert_exporter": "python",
   "pygments_lexer": "ipython3",
   "version": "3.9.13"
  }
 },
 "nbformat": 4,
 "nbformat_minor": 2
}
