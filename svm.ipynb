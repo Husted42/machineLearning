{
 "cells": [
  {
   "cell_type": "markdown",
   "metadata": {},
   "source": [
    "# Data understanding and preprocessing"
   ]
  },
  {
   "cell_type": "markdown",
   "metadata": {},
   "source": [
    "### Data load"
   ]
  },
  {
   "cell_type": "code",
   "execution_count": 8,
   "metadata": {},
   "outputs": [],
   "source": [
    "import numpy as np\n",
    "from sklearn.preprocessing import StandardScaler\n",
    "\n",
    "from sklearn.metrics import make_scorer, zero_one_loss\n",
    "from sklearn.model_selection import GridSearchCV\n",
    "from sklearn.svm import SVC"
   ]
  },
  {
   "cell_type": "code",
   "execution_count": 9,
   "metadata": {},
   "outputs": [],
   "source": [
    "y_train = np.loadtxt('data/svm_binary/y_train_binary.csv', delimiter=',')\n",
    "y_test = np.loadtxt('data/svm_binary/y_test_binary.csv', delimiter=',')\n",
    "X_train = np.loadtxt('data/svm_binary/X_train_binary.csv', delimiter=',')\n",
    "X_test = np.loadtxt('data/svm_binary/X_test_binary.csv', delimiter=',')"
   ]
  },
  {
   "cell_type": "code",
   "execution_count": 10,
   "metadata": {},
   "outputs": [
    {
     "name": "stdout",
     "output_type": "stream",
     "text": [
      "X_train shape: (150, 61)\n",
      "X_test shape: (164, 61)\n",
      "[ 2.3350e-01  0.0000e+00  7.5680e-02  1.6718e-01  3.3433e-01  5.6597e-01\n",
      "  8.3368e-01 -2.6516e+00  2.8234e+00  1.2917e-01  7.7993e-02  4.4053e-02\n",
      "  1.9141e-02  1.3193e+00 -1.5318e+00  2.9943e+00  1.5345e+00  6.8333e-03\n",
      "  2.4296e-03  3.1153e-04  1.3678e-04  5.8885e+00 -3.2956e-01 -1.6802e-01\n",
      " -2.1903e+00  5.7364e-03  6.6731e-04  1.7311e-04  1.1276e-05  4.7518e+00\n",
      " -2.5333e+00  1.6317e+00 -9.6839e-01  5.2901e-02  4.4408e-02  4.4636e+00\n",
      "  3.6019e+00  1.1983e+01  3.0226e-01  2.9189e-01  1.3080e-06  2.5472e-03\n",
      " -7.2104e-06  2.6000e+01  2.8000e-02  6.5919e-01  9.7047e-01  3.0958e-02\n",
      "  2.9107e+00  6.7857e-01  2.3018e+00  3.1008e-01  2.9314e-01  2.8908e+00\n",
      "  8.0693e-02  4.0705e-01  1.4590e+00  1.6782e+00  1.1629e-01 -2.5700e-01\n",
      "  8.6146e-01]\n"
     ]
    }
   ],
   "source": [
    "print('X_train shape:', X_train.shape)\n",
    "print('X_test shape:', X_test.shape)\n",
    "print(X_train[0])"
   ]
  },
  {
   "cell_type": "markdown",
   "metadata": {},
   "source": [
    "### Data preprocessing"
   ]
  },
  {
   "cell_type": "markdown",
   "metadata": {},
   "source": [
    "Get the frequencies of each class in the training set"
   ]
  },
  {
   "cell_type": "code",
   "execution_count": 11,
   "metadata": {},
   "outputs": [
    {
     "name": "stdout",
     "output_type": "stream",
     "text": [
      "Class -1.0: 45.33%\n",
      "Class 1.0: 54.67%\n"
     ]
    }
   ],
   "source": [
    "class_counts = np.unique(y_train, return_counts=True)\n",
    "total_data_points = len(y_train)\n",
    "\n",
    "class_frequencies = class_counts[1] / total_data_points\n",
    "\n",
    "for class_label, frequency in zip(class_counts[0], class_frequencies):\n",
    "    print(f\"Class {class_label}: {frequency:.2%}\")\n"
   ]
  },
  {
   "cell_type": "markdown",
   "metadata": {},
   "source": [
    "Transform data to zero mean and unit variance"
   ]
  },
  {
   "cell_type": "code",
   "execution_count": 12,
   "metadata": {},
   "outputs": [
    {
     "name": "stdout",
     "output_type": "stream",
     "text": [
      "Mean: [ 3.12016667e-01  1.19002133e-03  8.88565533e-02  1.69619973e-01\n",
      "  2.90525800e-01  4.93438333e-01  7.56135600e-01 -2.14976509e+00\n",
      "  2.09830876e+00  1.11999747e-01  1.07688547e-01  5.00619593e-02\n",
      "  4.75127227e-02  6.85888707e-01 -1.59077333e+00  1.90434667e-01\n",
      "  1.52237987e+00  1.55371807e-02  2.57776455e-03  3.00196533e-03\n",
      "  4.61159247e-04  1.98633014e+00 -2.47071107e-01  5.66055780e-02\n",
      " -4.41235733e-02  1.10457260e-02  2.56409825e-03  8.67068651e-04\n",
      "  2.19285465e-04  2.85879909e+00  3.16466867e-02 -4.16886333e-02\n",
      " -2.71012920e-01  1.51912793e-01  1.13373287e-01  4.52113072e+00\n",
      "  6.95909174e+00  1.49569067e+01  4.53269133e-01  3.68771400e-01\n",
      "  3.97319200e-06  3.89819683e-03  3.48878000e-07  1.21960000e+02\n",
      "  4.08200000e-02  6.38288667e-01  1.27133513e+00  6.08435527e-02\n",
      "  1.58987833e+00  6.07201667e-01  1.76779860e+00  3.70571867e-01\n",
      "  3.52433333e-01  3.00013533e+00  3.23182422e-01  4.18279340e-01\n",
      "  1.69910800e+00  3.15320498e+00  1.39558713e-01 -1.46031785e-01\n",
      "  8.09072933e-01]\n",
      "Variance: [2.15440481e-02 8.38085505e-05 1.93037351e-03 6.21794415e-03\n",
      " 1.41282528e-02 2.14700354e-02 1.61899934e-02 5.84795693e+00\n",
      " 5.05748875e+00 2.29917545e-03 3.14924333e-03 5.79538590e-04\n",
      " 1.29395639e-03 2.78679480e-01 6.15231636e-03 9.34345354e+00\n",
      " 3.55024892e-02 1.27995100e-04 1.79701192e-05 4.00877056e-05\n",
      " 1.01250584e-06 3.85023059e+00 3.13855668e+00 4.50431677e+00\n",
      " 3.60084834e+00 6.11613020e-05 1.92322191e-05 3.26352698e-06\n",
      " 1.25099468e-07 6.27393015e+00 3.00894297e+00 3.40431986e+00\n",
      " 3.31826283e+00 1.02204965e-02 6.83225785e-03 4.11259078e+01\n",
      " 1.45155332e+02 4.95636019e+00 3.15117730e-02 1.66094621e-02\n",
      " 2.04913884e-11 1.07630776e-04 7.92505850e-11 6.83905173e+03\n",
      " 4.35284267e-04 2.45448640e-02 1.94359232e-01 1.46646762e-03\n",
      " 2.55837542e-01 8.12458266e-02 2.22260858e-01 1.93176354e-02\n",
      " 1.47635227e-02 9.32157952e-01 9.57969204e-02 3.93695529e-02\n",
      " 3.18783699e-01 6.76671212e+00 3.21000075e-03 1.33858865e-01\n",
      " 1.31820073e-02]\n"
     ]
    }
   ],
   "source": [
    "print(\"Mean:\", np.mean(X_train, axis=0))\n",
    "print(\"Variance:\", np.var(X_train, axis=0))\n"
   ]
  },
  {
   "cell_type": "code",
   "execution_count": 13,
   "metadata": {},
   "outputs": [
    {
     "name": "stdout",
     "output_type": "stream",
     "text": [
      "Mean: [ 1.77635684e-17  7.10542736e-17 -7.32747196e-17  9.66634180e-16\n",
      "  9.09642732e-16  9.32587341e-17 -1.01548399e-15  1.62832710e-16\n",
      "  5.76575824e-16 -2.44249065e-16 -9.39988828e-16 -1.74675089e-16\n",
      " -3.25665421e-17 -5.19954450e-17 -2.42028619e-15  1.48029737e-18\n",
      "  2.82292708e-15  1.19163938e-16  5.55111512e-17  1.30636243e-16\n",
      " -1.73934941e-17  7.69754630e-17 -2.81256500e-17 -4.32986980e-17\n",
      " -2.66453526e-17 -4.46309656e-16  5.62512999e-17  2.43508917e-16\n",
      "  4.10782519e-17  1.65793305e-16  2.96059473e-17  1.77635684e-17\n",
      " -7.40148683e-18 -2.10757338e-16  6.49480469e-16 -2.07241631e-17\n",
      "  2.63122857e-16 -5.18104078e-17  1.12391578e-15 -1.03102712e-15\n",
      " -1.83556873e-16 -8.28966525e-17  2.96059473e-17  7.03141249e-17\n",
      " -3.61192557e-16  1.73194792e-15 -1.55581566e-15 -2.54056035e-16\n",
      " -7.53101285e-16  4.76655752e-16  1.15537209e-15 -2.11682523e-15\n",
      "  1.06581410e-16  1.58243788e-15  7.28306304e-16 -2.87917838e-16\n",
      "  3.30106313e-16  5.75835675e-16 -1.98359847e-15 -2.69414121e-16\n",
      "  4.20404452e-15]\n",
      "Variance: [1. 1. 1. 1. 1. 1. 1. 1. 1. 1. 1. 1. 1. 1. 1. 1. 1. 1. 1. 1. 1. 1. 1. 1.\n",
      " 1. 1. 1. 1. 1. 1. 1. 1. 1. 1. 1. 1. 1. 1. 1. 1. 1. 1. 1. 1. 1. 1. 1. 1.\n",
      " 1. 1. 1. 1. 1. 1. 1. 1. 1. 1. 1. 1. 1.]\n"
     ]
    }
   ],
   "source": [
    "def fnorm(X):\n",
    "    mean = np.mean(X, axis=0)\n",
    "    std = np.std(X, axis=0)\n",
    "    X_normalized = (X - mean) / std\n",
    "    return X_normalized\n",
    "\n",
    "X_train_normalized = fnorm(X_train)\n",
    "\n",
    "# Compute the mean\n",
    "mean = np.mean(X_train_normalized, axis=0)\n",
    "\n",
    "# Compute the variance\n",
    "variance = np.var(X_train_normalized, axis=0)\n",
    "\n",
    "print(\"Mean:\", mean)\n",
    "print(\"Variance:\", variance)"
   ]
  },
  {
   "cell_type": "markdown",
   "metadata": {},
   "source": [
    "# Model selection using grid-search"
   ]
  },
  {
   "cell_type": "code",
   "execution_count": 14,
   "metadata": {},
   "outputs": [
    {
     "name": "stdout",
     "output_type": "stream",
     "text": [
      "Best Parameters: {'C': 1, 'gamma': 0.01}\n",
      "Best Score (0-1 loss): 0.14666666666666664\n"
     ]
    }
   ],
   "source": [
    "# Define the parameter grid\n",
    "param_grid = {'C': [0.1, 1, 10, 100], \n",
    "              'gamma': [0.01, 0.1, 1, 10, 100]}\n",
    "svm = SVC()\n",
    "\n",
    "# greater_is_better = False, because we want to minimize the 0-1 loss\n",
    "custom_scorer = make_scorer(zero_one_loss, greater_is_better=False)\n",
    "grid_search = GridSearchCV(svm, param_grid, cv=5, scoring=custom_scorer)\n",
    "\n",
    "# Fit the data to perform grid search\n",
    "grid_search.fit(X_train_normalized, y_train)\n",
    "\n",
    "# Report results\n",
    "print(\"Best Parameters:\", grid_search.best_params_)\n",
    "# I negated the score when setting up the greater_is_better=False, so I need to un-negate it. Hence the minus sign.\n",
    "print(\"Best Score (0-1 loss):\", -grid_search.best_score_) \n"
   ]
  },
  {
   "cell_type": "code",
   "execution_count": 15,
   "metadata": {},
   "outputs": [
    {
     "name": "stdout",
     "output_type": "stream",
     "text": [
      "Test Score: 0.7987804878048781\n",
      "Zero-One Loss: 0.2012195121951219\n"
     ]
    }
   ],
   "source": [
    "from sklearn.metrics import zero_one_loss\n",
    "## Evaluation\n",
    "test_score = grid_search.best_estimator_.score(fnorm(X_test), y_test)\n",
    "print(\"Test Score:\", test_score)\n",
    "# Calculate zero-one loss (Could also have subtracted the test_score from 1)\n",
    "y_pred = grid_search.best_estimator_.predict(fnorm(X_test))\n",
    "zero_one_loss_value = zero_one_loss(y_test, y_pred)\n",
    "print(\"Zero-One Loss:\", zero_one_loss_value)\n",
    "\n"
   ]
  },
  {
   "cell_type": "markdown",
   "metadata": {},
   "source": [
    "# Support vectors"
   ]
  },
  {
   "cell_type": "code",
   "execution_count": 16,
   "metadata": {},
   "outputs": [
    {
     "name": "stdout",
     "output_type": "stream",
     "text": [
      "[  1   2   4   6   8   9  11  12  13  19  24  25  30  33  35  39  41  43\n",
      "  44  45  47  50  51  52  53  55  56  57  59  60  63  65  67  70  73  77\n",
      "  79  87  90  91  92  94  95  98 100 101 105 109 110 111 118 120 123 126\n",
      " 127 128 130 131 134 135 136 137 139 141 143 145 147 148   0   3   5   7\n",
      "  10  14  15  16  17  18  21  22  23  26  27  28  29  31  32  34  36  37\n",
      "  38  40  42  46  48  49  58  61  64  66  68  71  72  74  75  76  80  81\n",
      "  84  85  86  88  89  93  96  99 102 103 104 106 107 108 114 115 116 119\n",
      " 121 124 125 129 132 138 140 142 146 149] [68 68]\n",
      "C: 0.0001\n",
      "Number of Free Support Vectors: 0\n",
      "Number of Bounded Support Vectors: 136\n",
      " \n",
      "[  1   2   4   6   8   9  11  12  13  19  24  25  30  33  35  39  41  43\n",
      "  44  45  47  50  51  52  53  55  56  57  59  60  63  65  67  70  73  77\n",
      "  79  87  90  91  92  94  95  98 100 101 105 109 110 111 118 120 123 126\n",
      " 127 128 130 131 134 135 136 137 139 141 143 145 147 148   0   3   5   7\n",
      "  10  14  15  16  17  18  20  21  22  23  26  27  28  29  31  32  34  36\n",
      "  37  38  40  42  46  48  49  58  61  62  64  66  68  69  71  72  74  75\n",
      "  76  80  81  82  84  86  89  93  96  97  99 102 103 104 106 107 108 112\n",
      " 113 115 116 117 119 121 122 124 125 129 132 133 138 140 142 146 149] [68 75]\n",
      "C: 0.001\n",
      "Number of Free Support Vectors: 0\n",
      "Number of Bounded Support Vectors: 143\n",
      " \n",
      "[  1   2   4   6   8   9  11  12  13  19  24  25  30  33  35  39  41  43\n",
      "  44  45  47  50  51  52  53  55  56  57  59  60  63  65  67  70  73  77\n",
      "  79  87  90  91  92  94  95  98 100 101 105 109 110 111 118 120 123 126\n",
      " 127 128 130 131 134 135 136 137 139 141 143 145 147 148   0   3   5   7\n",
      "  10  14  15  16  17  18  20  21  22  23  26  27  28  29  31  32  34  36\n",
      "  37  38  40  42  46  48  49  54  58  61  62  64  66  68  69  71  72  74\n",
      "  75  76  78  80  81  82  83  84  85  86  88  89  93  96  97  99 102 103\n",
      " 104 106 107 108 112 113 114 115 117 119 121 122 124 125 129 132 133 138\n",
      " 140 142 144 146 149] [68 81]\n",
      "C: 0.01\n",
      "Number of Free Support Vectors: 0\n",
      "Number of Bounded Support Vectors: 149\n",
      " \n",
      "[  1   2   4   6   8   9  11  12  13  19  24  25  30  33  35  39  41  43\n",
      "  44  45  47  50  51  52  53  55  56  57  59  60  63  65  67  70  73  77\n",
      "  79  87  90  91  92  94  95  98 100 101 105 109 110 111 118 120 123 126\n",
      " 127 128 130 131 134 135 136 137 139 141 143 145 147 148   0   3   5   7\n",
      "  10  14  15  16  17  18  20  21  22  23  26  27  28  29  31  32  34  36\n",
      "  37  38  40  42  46  48  49  54  58  61  62  64  66  68  69  71  72  74\n",
      "  75  76  78  80  81  82  83  84  85  86  88  89  93  96  97  99 102 103\n",
      " 104 106 107 108 112 113 114 115 117 119 121 122 124 125 129 132 133 138\n",
      " 140 142 144 146 149] [68 81]\n",
      "C: 0.1\n",
      "Number of Free Support Vectors: 0\n",
      "Number of Bounded Support Vectors: 149\n",
      " \n",
      "[  1   2   4   6   8   9  11  12  13  19  24  25  30  33  35  39  41  43\n",
      "  44  45  47  50  51  52  53  55  56  57  59  60  63  65  67  70  73  77\n",
      "  79  87  90  91  92  94  95  98 100 101 105 109 110 111 118 120 123 126\n",
      " 127 128 130 131 134 135 136 137 139 141 143 145 147 148   0   3   5   7\n",
      "  10  14  15  16  17  18  20  21  22  23  26  27  28  29  31  32  34  36\n",
      "  37  38  40  42  46  48  49  54  58  61  62  64  66  68  69  71  72  74\n",
      "  75  76  78  80  81  82  83  84  85  86  88  89  93  96  97  99 102 103\n",
      " 104 106 107 108 112 113 114 115 117 119 121 122 124 125 129 132 133 138\n",
      " 140 142 144 146 149] [68 81]\n",
      "C: 1\n",
      "Number of Free Support Vectors: 0\n",
      "Number of Bounded Support Vectors: 149\n",
      " \n",
      "[  1   2   4   6   8   9  11  12  13  19  24  25  30  33  35  39  41  43\n",
      "  44  45  47  50  51  52  53  55  56  57  59  60  63  65  67  70  73  77\n",
      "  79  87  90  91  92  94  95  98 100 101 105 109 110 111 118 120 123 126\n",
      " 127 128 130 131 134 135 136 137 139 141 143 145 147 148   0   3   5   7\n",
      "  10  14  15  16  17  18  20  21  22  23  26  27  28  29  31  32  34  36\n",
      "  37  38  40  42  46  48  49  54  58  61  62  64  66  68  69  71  72  74\n",
      "  75  76  78  80  81  82  83  84  85  86  88  89  93  96  97  99 102 103\n",
      " 104 106 107 108 112 113 114 115 116 117 119 121 122 124 125 129 132 133\n",
      " 138 140 142 144 146 149] [68 82]\n",
      "C: 10\n",
      "Number of Free Support Vectors: 0\n",
      "Number of Bounded Support Vectors: 150\n",
      " \n",
      "[  1   2   4   6   8   9  11  12  13  19  24  25  30  33  35  39  41  43\n",
      "  44  45  47  50  51  52  53  55  56  57  59  60  63  65  67  70  73  77\n",
      "  79  87  90  91  92  94  95  98 100 101 105 109 110 111 118 120 123 126\n",
      " 127 128 130 131 134 135 136 137 139 141 143 145 147 148   0   3   5   7\n",
      "  10  14  15  16  17  18  20  21  22  23  26  27  28  29  31  32  34  36\n",
      "  37  38  40  42  46  48  49  54  58  61  62  64  66  68  69  71  72  74\n",
      "  75  76  78  80  81  82  83  84  85  86  88  89  93  96  97  99 102 103\n",
      " 104 106 107 108 112 113 114 115 116 117 119 121 122 124 125 129 132 133\n",
      " 138 140 142 144 146 149] [68 82]\n",
      "C: 100\n",
      "Number of Free Support Vectors: 0\n",
      "Number of Bounded Support Vectors: 150\n",
      " \n"
     ]
    }
   ],
   "source": [
    "C_values = [0.0001, 0.001, 0.01, 0.1, 1, 10, 100]\n",
    "gamma_value = 0.1  # Set your desired value for gamma\n",
    "for elm in C_values:\n",
    "    svm = SVC(C=elm, gamma=gamma_value)\n",
    "    svm.fit(X_train_normalized, y_train)\n",
    "    \n",
    "    n_support_vectors = svm.n_support_ # Count the number of support vectors per class\n",
    "    support_vector_indices = svm.support_ # Get indices of support vectors\n",
    "\n",
    "    # Count the number of free and bounded support vectors\n",
    "    n_free = len(support_vector_indices) - sum(n_support_vectors)\n",
    "    print(support_vector_indices, n_support_vectors)\n",
    "    n_bounded_support_vectors = sum(n_support_vectors)\n",
    "\n",
    "    print(\"C:\", elm)\n",
    "    print(\"Number of Free Support Vectors:\", n_free)\n",
    "    print(\"Number of Bounded Support Vectors:\", n_bounded_support_vectors)\n",
    "    print(\" \")"
   ]
  }
 ],
 "metadata": {
  "kernelspec": {
   "display_name": "base",
   "language": "python",
   "name": "python3"
  },
  "language_info": {
   "codemirror_mode": {
    "name": "ipython",
    "version": 3
   },
   "file_extension": ".py",
   "mimetype": "text/x-python",
   "name": "python",
   "nbconvert_exporter": "python",
   "pygments_lexer": "ipython3",
   "version": "3.9.13"
  }
 },
 "nbformat": 4,
 "nbformat_minor": 2
}
